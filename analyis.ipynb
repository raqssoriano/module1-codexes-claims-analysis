{
  "nbformat": 4,
  "nbformat_minor": 0,
  "metadata": {
    "colab": {
      "provenance": [],
      "authorship_tag": "ABX9TyPnhoAKY0LdZkZLoQQaakGk",
      "include_colab_link": true
    },
    "kernelspec": {
      "name": "python3",
      "display_name": "Python 3"
    },
    "language_info": {
      "name": "python"
    }
  },
  "cells": [
    {
      "cell_type": "markdown",
      "metadata": {
        "id": "view-in-github",
        "colab_type": "text"
      },
      "source": [
        "<a href=\"https://colab.research.google.com/github/raqssoriano/module1-codexes-claims-analysis/blob/main/analyis.ipynb\" target=\"_parent\"><img src=\"https://colab.research.google.com/assets/colab-badge.svg\" alt=\"Open In Colab\"/></a>"
      ]
    },
    {
      "cell_type": "code",
      "execution_count": 1,
      "metadata": {
        "id": "K44DMKQiSB0P"
      },
      "outputs": [],
      "source": [
        "import pandas as pd"
      ]
    },
    {
      "cell_type": "code",
      "source": [
        "# 1) Load data:\n",
        "\n",
        "df = pd.read_csv('https://data.cms.gov/sites/default/files/2023-04/67157de9-d962-4af0-bf0e-3578b3afec58/inpatient.csv', sep='|')"
      ],
      "metadata": {
        "colab": {
          "base_uri": "https://localhost:8080/"
        },
        "id": "GzLw-OgvTfiZ",
        "outputId": "93a002eb-c69e-4731-c36c-b53df7890ebf"
      },
      "execution_count": 3,
      "outputs": [
        {
          "output_type": "stream",
          "name": "stderr",
          "text": [
            "<ipython-input-3-8adf117957d6>:3: DtypeWarning: Columns (168,169,170,171,172,173,174,175,176,177,178,179,180,181,182,183,184,185,186,187,188,189) have mixed types. Specify dtype option on import or set low_memory=False.\n",
            "  df = pd.read_csv('https://data.cms.gov/sites/default/files/2023-04/67157de9-d962-4af0-bf0e-3578b3afec58/inpatient.csv', sep='|')\n"
          ]
        }
      ]
    },
    {
      "cell_type": "code",
      "source": [
        "# Display first few rows of dataset:\n",
        "\n",
        "print(df.head())"
      ],
      "metadata": {
        "colab": {
          "base_uri": "https://localhost:8080/"
        },
        "id": "pe2PfMYKUHso",
        "outputId": "05911002-f7de-41b1-f78d-7d9cfc8b0098"
      },
      "execution_count": 15,
      "outputs": [
        {
          "output_type": "stream",
          "name": "stdout",
          "text": [
            "          BENE_ID          CLM_ID NCH_NEAR_LINE_REC_IDENT_CD  NCH_CLM_TYPE_CD  \\\n",
            "0 -10000010254618 -10000930037831                          V               60   \n",
            "1 -10000010254653 -10000930038030                          V               60   \n",
            "2 -10000010254653 -10000930038031                          V               60   \n",
            "3 -10000010254656 -10000930038162                          V               60   \n",
            "4 -10000010254656 -10000930038162                          V               60   \n",
            "\n",
            "   CLM_FROM_DT  CLM_THRU_DT NCH_WKLY_PROC_DT  FI_CLM_PROC_DT  \\\n",
            "0  25-Mar-2015  25-Mar-2015      27-Mar-2015             NaN   \n",
            "1  24-Sep-2015  24-Sep-2015      25-Sep-2015             NaN   \n",
            "2  09-May-2017  10-May-2017      12-May-2017             NaN   \n",
            "3  14-Jan-2017  14-Jan-2017      20-Jan-2017             NaN   \n",
            "4  14-Jan-2017  14-Jan-2017      20-Jan-2017             NaN   \n",
            "\n",
            "   CLAIM_QUERY_CODE PRVDR_NUM  ...  PRCDR_DT24  ICD_PRCDR_CD25  PRCDR_DT25  \\\n",
            "0                 3    011500  ...         NaN             NaN         NaN   \n",
            "1                 3    017129  ...         NaN             NaN         NaN   \n",
            "2                 3    010052  ...         NaN             NaN         NaN   \n",
            "3                 3    015455  ...         NaN             NaN         NaN   \n",
            "4                 3    015455  ...         NaN             NaN         NaN   \n",
            "\n",
            "   IME_OP_CLM_VAL_AMT DSH_OP_CLM_VAL_AMT  CLM_UNCOMPD_CARE_PMT_AMT  \\\n",
            "0                   0                  0                       NaN   \n",
            "1                   0                  0                       NaN   \n",
            "2                   0                  0                       NaN   \n",
            "3                   0                  0                       NaN   \n",
            "4                   0                  0                       NaN   \n",
            "\n",
            "   CLM_LINE_NUM REV_CNTR  HCPCS_CD  REV_CNTR_DDCTBL_COINSRNC_CD  \n",
            "0             1      450     99221                          NaN  \n",
            "1             1      450     99221                          NaN  \n",
            "2             1        1     99024                          3.0  \n",
            "3             1      450     73610                          3.0  \n",
            "4             2      450     29515                          3.0  \n",
            "\n",
            "[5 rows x 197 columns]\n"
          ]
        }
      ]
    },
    {
      "cell_type": "code",
      "source": [
        "# Explore dataset:\n",
        "\n",
        "for x in df.columns:\n",
        "    print(x)"
      ],
      "metadata": {
        "colab": {
          "base_uri": "https://localhost:8080/"
        },
        "id": "KQ1NNftrX7Px",
        "outputId": "40c20f6c-9823-4aa4-d646-211da0c5b51a"
      },
      "execution_count": 16,
      "outputs": [
        {
          "output_type": "stream",
          "name": "stdout",
          "text": [
            "BENE_ID\n",
            "CLM_ID\n",
            "NCH_NEAR_LINE_REC_IDENT_CD\n",
            "NCH_CLM_TYPE_CD\n",
            "CLM_FROM_DT\n",
            "CLM_THRU_DT\n",
            "NCH_WKLY_PROC_DT\n",
            "FI_CLM_PROC_DT\n",
            "CLAIM_QUERY_CODE\n",
            "PRVDR_NUM\n",
            "CLM_FAC_TYPE_CD\n",
            "CLM_SRVC_CLSFCTN_TYPE_CD\n",
            "CLM_FREQ_CD\n",
            "FI_NUM\n",
            "CLM_MDCR_NON_PMT_RSN_CD\n",
            "CLM_PMT_AMT\n",
            "NCH_PRMRY_PYR_CLM_PD_AMT\n",
            "NCH_PRMRY_PYR_CD\n",
            "FI_CLM_ACTN_CD\n",
            "PRVDR_STATE_CD\n",
            "ORG_NPI_NUM\n",
            "AT_PHYSN_UPIN\n",
            "AT_PHYSN_NPI\n",
            "OP_PHYSN_UPIN\n",
            "OP_PHYSN_NPI\n",
            "OT_PHYSN_UPIN\n",
            "OT_PHYSN_NPI\n",
            "CLM_MCO_PD_SW\n",
            "PTNT_DSCHRG_STUS_CD\n",
            "CLM_PPS_IND_CD\n",
            "CLM_TOT_CHRG_AMT\n",
            "CLM_ADMSN_DT\n",
            "CLM_IP_ADMSN_TYPE_CD\n",
            "CLM_SRC_IP_ADMSN_CD\n",
            "NCH_PTNT_STATUS_IND_CD\n",
            "CLM_PASS_THRU_PER_DIEM_AMT\n",
            "NCH_BENE_IP_DDCTBL_AMT\n",
            "NCH_BENE_PTA_COINSRNC_LBLTY_AM\n",
            "NCH_BENE_BLOOD_DDCTBL_LBLTY_AM\n",
            "NCH_PROFNL_CMPNT_CHRG_AMT\n",
            "NCH_IP_NCVRD_CHRG_AMT\n",
            "NCH_IP_TOT_DDCTN_AMT\n",
            "CLM_TOT_PPS_CPTL_AMT\n",
            "CLM_PPS_CPTL_FSP_AMT\n",
            "CLM_PPS_CPTL_OUTLIER_AMT\n",
            "CLM_PPS_CPTL_DSPRPRTNT_SHR_AMT\n",
            "CLM_PPS_CPTL_IME_AMT\n",
            "CLM_PPS_CPTL_EXCPTN_AMT\n",
            "CLM_PPS_OLD_CPTL_HLD_HRMLS_AMT\n",
            "CLM_PPS_CPTL_DRG_WT_NUM\n",
            "CLM_UTLZTN_DAY_CNT\n",
            "BENE_TOT_COINSRNC_DAYS_CNT\n",
            "BENE_LRD_USED_CNT\n",
            "CLM_NON_UTLZTN_DAYS_CNT\n",
            "NCH_BLOOD_PNTS_FRNSHD_QTY\n",
            "NCH_VRFD_NCVRD_STAY_FROM_DT\n",
            "NCH_VRFD_NCVRD_STAY_THRU_DT\n",
            "NCH_ACTV_OR_CVRD_LVL_CARE_THRU\n",
            "NCH_BENE_MDCR_BNFTS_EXHTD_DT_I\n",
            "NCH_BENE_DSCHRG_DT\n",
            "CLM_DRG_CD\n",
            "CLM_DRG_OUTLIER_STAY_CD\n",
            "NCH_DRG_OUTLIER_APRVD_PMT_AMT\n",
            "ADMTG_DGNS_CD\n",
            "PRNCPAL_DGNS_CD\n",
            "ICD_DGNS_CD1\n",
            "CLM_POA_IND_SW1\n",
            "ICD_DGNS_CD2\n",
            "CLM_POA_IND_SW2\n",
            "ICD_DGNS_CD3\n",
            "CLM_POA_IND_SW3\n",
            "ICD_DGNS_CD4\n",
            "CLM_POA_IND_SW4\n",
            "ICD_DGNS_CD5\n",
            "CLM_POA_IND_SW5\n",
            "ICD_DGNS_CD6\n",
            "CLM_POA_IND_SW6\n",
            "ICD_DGNS_CD7\n",
            "CLM_POA_IND_SW7\n",
            "ICD_DGNS_CD8\n",
            "CLM_POA_IND_SW8\n",
            "ICD_DGNS_CD9\n",
            "CLM_POA_IND_SW9\n",
            "ICD_DGNS_CD10\n",
            "CLM_POA_IND_SW10\n",
            "ICD_DGNS_CD11\n",
            "CLM_POA_IND_SW11\n",
            "ICD_DGNS_CD12\n",
            "CLM_POA_IND_SW12\n",
            "ICD_DGNS_CD13\n",
            "CLM_POA_IND_SW13\n",
            "ICD_DGNS_CD14\n",
            "CLM_POA_IND_SW14\n",
            "ICD_DGNS_CD15\n",
            "CLM_POA_IND_SW15\n",
            "ICD_DGNS_CD16\n",
            "CLM_POA_IND_SW16\n",
            "ICD_DGNS_CD17\n",
            "CLM_POA_IND_SW17\n",
            "ICD_DGNS_CD18\n",
            "CLM_POA_IND_SW18\n",
            "ICD_DGNS_CD19\n",
            "CLM_POA_IND_SW19\n",
            "ICD_DGNS_CD20\n",
            "CLM_POA_IND_SW20\n",
            "ICD_DGNS_CD21\n",
            "CLM_POA_IND_SW21\n",
            "ICD_DGNS_CD22\n",
            "CLM_POA_IND_SW22\n",
            "ICD_DGNS_CD23\n",
            "CLM_POA_IND_SW23\n",
            "ICD_DGNS_CD24\n",
            "CLM_POA_IND_SW24\n",
            "ICD_DGNS_CD25\n",
            "CLM_POA_IND_SW25\n",
            "FST_DGNS_E_CD\n",
            "ICD_DGNS_E_CD1\n",
            "CLM_E_POA_IND_SW1\n",
            "ICD_DGNS_E_CD2\n",
            "CLM_E_POA_IND_SW2\n",
            "ICD_DGNS_E_CD3\n",
            "CLM_E_POA_IND_SW3\n",
            "ICD_DGNS_E_CD4\n",
            "CLM_E_POA_IND_SW4\n",
            "ICD_DGNS_E_CD5\n",
            "CLM_E_POA_IND_SW5\n",
            "ICD_DGNS_E_CD6\n",
            "CLM_E_POA_IND_SW6\n",
            "ICD_DGNS_E_CD7\n",
            "CLM_E_POA_IND_SW7\n",
            "ICD_DGNS_E_CD8\n",
            "CLM_E_POA_IND_SW8\n",
            "ICD_DGNS_E_CD9\n",
            "CLM_E_POA_IND_SW9\n",
            "ICD_DGNS_E_CD10\n",
            "CLM_E_POA_IND_SW10\n",
            "ICD_DGNS_E_CD11\n",
            "CLM_E_POA_IND_SW11\n",
            "ICD_DGNS_E_CD12\n",
            "CLM_E_POA_IND_SW12\n",
            "ICD_PRCDR_CD1\n",
            "PRCDR_DT1\n",
            "ICD_PRCDR_CD2\n",
            "PRCDR_DT2\n",
            "ICD_PRCDR_CD3\n",
            "PRCDR_DT3\n",
            "ICD_PRCDR_CD4\n",
            "PRCDR_DT4\n",
            "ICD_PRCDR_CD5\n",
            "PRCDR_DT5\n",
            "ICD_PRCDR_CD6\n",
            "PRCDR_DT6\n",
            "ICD_PRCDR_CD7\n",
            "PRCDR_DT7\n",
            "ICD_PRCDR_CD8\n",
            "PRCDR_DT8\n",
            "ICD_PRCDR_CD9\n",
            "PRCDR_DT9\n",
            "ICD_PRCDR_CD10\n",
            "PRCDR_DT10\n",
            "ICD_PRCDR_CD11\n",
            "PRCDR_DT11\n",
            "ICD_PRCDR_CD12\n",
            "PRCDR_DT12\n",
            "ICD_PRCDR_CD13\n",
            "PRCDR_DT13\n",
            "ICD_PRCDR_CD14\n",
            "PRCDR_DT14\n",
            "ICD_PRCDR_CD15\n",
            "PRCDR_DT15\n",
            "ICD_PRCDR_CD16\n",
            "PRCDR_DT16\n",
            "ICD_PRCDR_CD17\n",
            "PRCDR_DT17\n",
            "ICD_PRCDR_CD18\n",
            "PRCDR_DT18\n",
            "ICD_PRCDR_CD19\n",
            "PRCDR_DT19\n",
            "ICD_PRCDR_CD20\n",
            "PRCDR_DT20\n",
            "ICD_PRCDR_CD21\n",
            "PRCDR_DT21\n",
            "ICD_PRCDR_CD22\n",
            "PRCDR_DT22\n",
            "ICD_PRCDR_CD23\n",
            "PRCDR_DT23\n",
            "ICD_PRCDR_CD24\n",
            "PRCDR_DT24\n",
            "ICD_PRCDR_CD25\n",
            "PRCDR_DT25\n",
            "IME_OP_CLM_VAL_AMT\n",
            "DSH_OP_CLM_VAL_AMT\n",
            "CLM_UNCOMPD_CARE_PMT_AMT\n",
            "CLM_LINE_NUM\n",
            "REV_CNTR\n",
            "HCPCS_CD\n",
            "REV_CNTR_DDCTBL_COINSRNC_CD\n"
          ]
        }
      ]
    },
    {
      "cell_type": "code",
      "source": [
        "# 2) Identify medical codexes columns:\n",
        "# ICD codes\n",
        "\n",
        "icd_codes = [x for x in df.columns if 'ICD' in x]\n",
        "print(icd_codes)"
      ],
      "metadata": {
        "colab": {
          "base_uri": "https://localhost:8080/"
        },
        "id": "AQYdsbuiYI9x",
        "outputId": "9ded0d87-590c-4ab4-fa9f-e7ff5ade1769"
      },
      "execution_count": 23,
      "outputs": [
        {
          "output_type": "stream",
          "name": "stdout",
          "text": [
            "['ICD_DGNS_CD1', 'ICD_DGNS_CD2', 'ICD_DGNS_CD3', 'ICD_DGNS_CD4', 'ICD_DGNS_CD5', 'ICD_DGNS_CD6', 'ICD_DGNS_CD7', 'ICD_DGNS_CD8', 'ICD_DGNS_CD9', 'ICD_DGNS_CD10', 'ICD_DGNS_CD11', 'ICD_DGNS_CD12', 'ICD_DGNS_CD13', 'ICD_DGNS_CD14', 'ICD_DGNS_CD15', 'ICD_DGNS_CD16', 'ICD_DGNS_CD17', 'ICD_DGNS_CD18', 'ICD_DGNS_CD19', 'ICD_DGNS_CD20', 'ICD_DGNS_CD21', 'ICD_DGNS_CD22', 'ICD_DGNS_CD23', 'ICD_DGNS_CD24', 'ICD_DGNS_CD25', 'ICD_DGNS_E_CD1', 'ICD_DGNS_E_CD2', 'ICD_DGNS_E_CD3', 'ICD_DGNS_E_CD4', 'ICD_DGNS_E_CD5', 'ICD_DGNS_E_CD6', 'ICD_DGNS_E_CD7', 'ICD_DGNS_E_CD8', 'ICD_DGNS_E_CD9', 'ICD_DGNS_E_CD10', 'ICD_DGNS_E_CD11', 'ICD_DGNS_E_CD12', 'ICD_PRCDR_CD1', 'ICD_PRCDR_CD2', 'ICD_PRCDR_CD3', 'ICD_PRCDR_CD4', 'ICD_PRCDR_CD5', 'ICD_PRCDR_CD6', 'ICD_PRCDR_CD7', 'ICD_PRCDR_CD8', 'ICD_PRCDR_CD9', 'ICD_PRCDR_CD10', 'ICD_PRCDR_CD11', 'ICD_PRCDR_CD12', 'ICD_PRCDR_CD13', 'ICD_PRCDR_CD14', 'ICD_PRCDR_CD15', 'ICD_PRCDR_CD16', 'ICD_PRCDR_CD17', 'ICD_PRCDR_CD18', 'ICD_PRCDR_CD19', 'ICD_PRCDR_CD20', 'ICD_PRCDR_CD21', 'ICD_PRCDR_CD22', 'ICD_PRCDR_CD23', 'ICD_PRCDR_CD24', 'ICD_PRCDR_CD25']\n"
          ]
        }
      ]
    },
    {
      "cell_type": "code",
      "source": [
        "\n",
        "# DRG codes\n",
        "\n",
        "drg_codes = [x for x in df.columns if 'DRG' in x]\n",
        "print(drg_codes)"
      ],
      "metadata": {
        "colab": {
          "base_uri": "https://localhost:8080/"
        },
        "id": "v6p0BdbOanmL",
        "outputId": "71c10094-da43-44f8-fcd1-adda44ec816c"
      },
      "execution_count": 24,
      "outputs": [
        {
          "output_type": "stream",
          "name": "stdout",
          "text": [
            "['CLM_PPS_CPTL_DRG_WT_NUM', 'CLM_DRG_CD', 'CLM_DRG_OUTLIER_STAY_CD', 'NCH_DRG_OUTLIER_APRVD_PMT_AMT']\n"
          ]
        }
      ]
    },
    {
      "cell_type": "code",
      "source": [
        "drg_frequency = df[drg_codes].value_counts()"
      ],
      "metadata": {
        "id": "NCCLV91GcL5R"
      },
      "execution_count": 93,
      "outputs": []
    },
    {
      "cell_type": "code",
      "source": [
        "\n",
        "# HCPCS codes\n",
        "\n",
        "hcpcs_codes= [x for x in df.columns if 'HCPCS' in x]\n",
        "print(hcpcs_codes)"
      ],
      "metadata": {
        "colab": {
          "base_uri": "https://localhost:8080/"
        },
        "id": "5hTHNBoQawkE",
        "outputId": "61cd50a4-0642-4aaf-9353-19ff8d3f2640"
      },
      "execution_count": 25,
      "outputs": [
        {
          "output_type": "stream",
          "name": "stdout",
          "text": [
            "['HCPCS_CD']\n"
          ]
        }
      ]
    },
    {
      "cell_type": "code",
      "source": [
        "\n",
        "# 3) Frequency of each unique value:\n",
        "# ICD Code Frequency using ICD_DGNS_CD\n",
        "\n",
        "df['ICD_DGNS_CD25'].value_counts()"
      ],
      "metadata": {
        "colab": {
          "base_uri": "https://localhost:8080/",
          "height": 490
        },
        "id": "t6UPoL02eBOv",
        "outputId": "31f5379e-b0c2-4db2-99e9-b118005919fc"
      },
      "execution_count": 38,
      "outputs": [
        {
          "output_type": "execute_result",
          "data": {
            "text/plain": [
              "ICD_DGNS_CD25\n",
              "D649       1372\n",
              "R7303      1356\n",
              "E669        682\n",
              "Z591        526\n",
              "J329        459\n",
              "           ... \n",
              "P7883         1\n",
              "N978          1\n",
              "F02ZFYZ       1\n",
              "E11319        1\n",
              "T7412X        1\n",
              "Name: count, Length: 92, dtype: int64"
            ],
            "text/html": [
              "<div>\n",
              "<style scoped>\n",
              "    .dataframe tbody tr th:only-of-type {\n",
              "        vertical-align: middle;\n",
              "    }\n",
              "\n",
              "    .dataframe tbody tr th {\n",
              "        vertical-align: top;\n",
              "    }\n",
              "\n",
              "    .dataframe thead th {\n",
              "        text-align: right;\n",
              "    }\n",
              "</style>\n",
              "<table border=\"1\" class=\"dataframe\">\n",
              "  <thead>\n",
              "    <tr style=\"text-align: right;\">\n",
              "      <th></th>\n",
              "      <th>count</th>\n",
              "    </tr>\n",
              "    <tr>\n",
              "      <th>ICD_DGNS_CD25</th>\n",
              "      <th></th>\n",
              "    </tr>\n",
              "  </thead>\n",
              "  <tbody>\n",
              "    <tr>\n",
              "      <th>D649</th>\n",
              "      <td>1372</td>\n",
              "    </tr>\n",
              "    <tr>\n",
              "      <th>R7303</th>\n",
              "      <td>1356</td>\n",
              "    </tr>\n",
              "    <tr>\n",
              "      <th>E669</th>\n",
              "      <td>682</td>\n",
              "    </tr>\n",
              "    <tr>\n",
              "      <th>Z591</th>\n",
              "      <td>526</td>\n",
              "    </tr>\n",
              "    <tr>\n",
              "      <th>J329</th>\n",
              "      <td>459</td>\n",
              "    </tr>\n",
              "    <tr>\n",
              "      <th>...</th>\n",
              "      <td>...</td>\n",
              "    </tr>\n",
              "    <tr>\n",
              "      <th>P7883</th>\n",
              "      <td>1</td>\n",
              "    </tr>\n",
              "    <tr>\n",
              "      <th>N978</th>\n",
              "      <td>1</td>\n",
              "    </tr>\n",
              "    <tr>\n",
              "      <th>F02ZFYZ</th>\n",
              "      <td>1</td>\n",
              "    </tr>\n",
              "    <tr>\n",
              "      <th>E11319</th>\n",
              "      <td>1</td>\n",
              "    </tr>\n",
              "    <tr>\n",
              "      <th>T7412X</th>\n",
              "      <td>1</td>\n",
              "    </tr>\n",
              "  </tbody>\n",
              "</table>\n",
              "<p>92 rows × 1 columns</p>\n",
              "</div><br><label><b>dtype:</b> int64</label>"
            ]
          },
          "metadata": {},
          "execution_count": 38
        }
      ]
    },
    {
      "cell_type": "code",
      "source": [
        "icd_frequency = df[icd_codes].value_counts()"
      ],
      "metadata": {
        "id": "ntf4xe_Ib8M7"
      },
      "execution_count": 92,
      "outputs": []
    },
    {
      "cell_type": "code",
      "source": [
        "\n",
        "# DRG Codes Frequency\n",
        "\n",
        "df['CLM_DRG_CD'].value_counts()"
      ],
      "metadata": {
        "colab": {
          "base_uri": "https://localhost:8080/",
          "height": 490
        },
        "id": "NtJPAyqXgb6g",
        "outputId": "57b85a23-b4d7-41f0-9f8e-99335461ef13"
      },
      "execution_count": 39,
      "outputs": [
        {
          "output_type": "execute_result",
          "data": {
            "text/plain": [
              "CLM_DRG_CD\n",
              "951.0    28831\n",
              "950.0     1456\n",
              "949.0     1332\n",
              "922.0     1110\n",
              "923.0     1015\n",
              "         ...  \n",
              "814.0        1\n",
              "918.0        1\n",
              "870.0        1\n",
              "812.0        1\n",
              "656.0        1\n",
              "Name: count, Length: 167, dtype: int64"
            ],
            "text/html": [
              "<div>\n",
              "<style scoped>\n",
              "    .dataframe tbody tr th:only-of-type {\n",
              "        vertical-align: middle;\n",
              "    }\n",
              "\n",
              "    .dataframe tbody tr th {\n",
              "        vertical-align: top;\n",
              "    }\n",
              "\n",
              "    .dataframe thead th {\n",
              "        text-align: right;\n",
              "    }\n",
              "</style>\n",
              "<table border=\"1\" class=\"dataframe\">\n",
              "  <thead>\n",
              "    <tr style=\"text-align: right;\">\n",
              "      <th></th>\n",
              "      <th>count</th>\n",
              "    </tr>\n",
              "    <tr>\n",
              "      <th>CLM_DRG_CD</th>\n",
              "      <th></th>\n",
              "    </tr>\n",
              "  </thead>\n",
              "  <tbody>\n",
              "    <tr>\n",
              "      <th>951.0</th>\n",
              "      <td>28831</td>\n",
              "    </tr>\n",
              "    <tr>\n",
              "      <th>950.0</th>\n",
              "      <td>1456</td>\n",
              "    </tr>\n",
              "    <tr>\n",
              "      <th>949.0</th>\n",
              "      <td>1332</td>\n",
              "    </tr>\n",
              "    <tr>\n",
              "      <th>922.0</th>\n",
              "      <td>1110</td>\n",
              "    </tr>\n",
              "    <tr>\n",
              "      <th>923.0</th>\n",
              "      <td>1015</td>\n",
              "    </tr>\n",
              "    <tr>\n",
              "      <th>...</th>\n",
              "      <td>...</td>\n",
              "    </tr>\n",
              "    <tr>\n",
              "      <th>814.0</th>\n",
              "      <td>1</td>\n",
              "    </tr>\n",
              "    <tr>\n",
              "      <th>918.0</th>\n",
              "      <td>1</td>\n",
              "    </tr>\n",
              "    <tr>\n",
              "      <th>870.0</th>\n",
              "      <td>1</td>\n",
              "    </tr>\n",
              "    <tr>\n",
              "      <th>812.0</th>\n",
              "      <td>1</td>\n",
              "    </tr>\n",
              "    <tr>\n",
              "      <th>656.0</th>\n",
              "      <td>1</td>\n",
              "    </tr>\n",
              "  </tbody>\n",
              "</table>\n",
              "<p>167 rows × 1 columns</p>\n",
              "</div><br><label><b>dtype:</b> int64</label>"
            ]
          },
          "metadata": {},
          "execution_count": 39
        }
      ]
    },
    {
      "cell_type": "code",
      "source": [
        "drg_frequency = df[drg_codes].value_counts()\n",
        "\n"
      ],
      "metadata": {
        "id": "WXEptRCIxGsO"
      },
      "execution_count": 84,
      "outputs": []
    },
    {
      "cell_type": "code",
      "source": [
        "\n",
        "# HCPCS Code Frequency\n",
        "\n",
        "df['HCPCS_CD'].value_counts()"
      ],
      "metadata": {
        "colab": {
          "base_uri": "https://localhost:8080/",
          "height": 490
        },
        "id": "C_0tydjjiCBa",
        "outputId": "4240f00d-d0b0-4e20-870a-be33414f5d34"
      },
      "execution_count": 40,
      "outputs": [
        {
          "output_type": "execute_result",
          "data": {
            "text/plain": [
              "HCPCS_CD\n",
              "99221    8298\n",
              "G0444    7990\n",
              "96156    5080\n",
              "99408    4196\n",
              "99495    3867\n",
              "         ... \n",
              "S9361       1\n",
              "S9355       1\n",
              "S9374       1\n",
              "S9377       1\n",
              "G9829       1\n",
              "Name: count, Length: 106, dtype: int64"
            ],
            "text/html": [
              "<div>\n",
              "<style scoped>\n",
              "    .dataframe tbody tr th:only-of-type {\n",
              "        vertical-align: middle;\n",
              "    }\n",
              "\n",
              "    .dataframe tbody tr th {\n",
              "        vertical-align: top;\n",
              "    }\n",
              "\n",
              "    .dataframe thead th {\n",
              "        text-align: right;\n",
              "    }\n",
              "</style>\n",
              "<table border=\"1\" class=\"dataframe\">\n",
              "  <thead>\n",
              "    <tr style=\"text-align: right;\">\n",
              "      <th></th>\n",
              "      <th>count</th>\n",
              "    </tr>\n",
              "    <tr>\n",
              "      <th>HCPCS_CD</th>\n",
              "      <th></th>\n",
              "    </tr>\n",
              "  </thead>\n",
              "  <tbody>\n",
              "    <tr>\n",
              "      <th>99221</th>\n",
              "      <td>8298</td>\n",
              "    </tr>\n",
              "    <tr>\n",
              "      <th>G0444</th>\n",
              "      <td>7990</td>\n",
              "    </tr>\n",
              "    <tr>\n",
              "      <th>96156</th>\n",
              "      <td>5080</td>\n",
              "    </tr>\n",
              "    <tr>\n",
              "      <th>99408</th>\n",
              "      <td>4196</td>\n",
              "    </tr>\n",
              "    <tr>\n",
              "      <th>99495</th>\n",
              "      <td>3867</td>\n",
              "    </tr>\n",
              "    <tr>\n",
              "      <th>...</th>\n",
              "      <td>...</td>\n",
              "    </tr>\n",
              "    <tr>\n",
              "      <th>S9361</th>\n",
              "      <td>1</td>\n",
              "    </tr>\n",
              "    <tr>\n",
              "      <th>S9355</th>\n",
              "      <td>1</td>\n",
              "    </tr>\n",
              "    <tr>\n",
              "      <th>S9374</th>\n",
              "      <td>1</td>\n",
              "    </tr>\n",
              "    <tr>\n",
              "      <th>S9377</th>\n",
              "      <td>1</td>\n",
              "    </tr>\n",
              "    <tr>\n",
              "      <th>G9829</th>\n",
              "      <td>1</td>\n",
              "    </tr>\n",
              "  </tbody>\n",
              "</table>\n",
              "<p>106 rows × 1 columns</p>\n",
              "</div><br><label><b>dtype:</b> int64</label>"
            ]
          },
          "metadata": {},
          "execution_count": 40
        }
      ]
    },
    {
      "cell_type": "code",
      "source": [
        "hcpcs_frequency = df[hcpcs_codes].value_counts()\n",
        "\n"
      ],
      "metadata": {
        "id": "MkAbuZ8GxUsu"
      },
      "execution_count": 83,
      "outputs": []
    },
    {
      "cell_type": "code",
      "source": [
        "\n",
        "# Claim Procedure Code Frequency - ICD_PRCDR_CD\n",
        "\n",
        "df['ICD_PRCDR_CD5'].value_counts()"
      ],
      "metadata": {
        "colab": {
          "base_uri": "https://localhost:8080/",
          "height": 617
        },
        "id": "A-sINWe0iVTa",
        "outputId": "c21b9c48-b39c-420e-cb97-e3e166e9260d"
      },
      "execution_count": 41,
      "outputs": [
        {
          "output_type": "execute_result",
          "data": {
            "text/plain": [
              "ICD_PRCDR_CD5\n",
              "Z1331      16209\n",
              "F1990       4218\n",
              "Z9981       2197\n",
              "F08H5ZZ     2147\n",
              "Z139        1644\n",
              "F13         1540\n",
              "BW03ZZZ     1492\n",
              "Z715         960\n",
              "F109         838\n",
              "Z9181        314\n",
              "30273R1       24\n",
              "Z8616         14\n",
              "07HN33Z       13\n",
              "F419           8\n",
              "6A550Z2        6\n",
              "02RF38H        4\n",
              "Name: count, dtype: int64"
            ],
            "text/html": [
              "<div>\n",
              "<style scoped>\n",
              "    .dataframe tbody tr th:only-of-type {\n",
              "        vertical-align: middle;\n",
              "    }\n",
              "\n",
              "    .dataframe tbody tr th {\n",
              "        vertical-align: top;\n",
              "    }\n",
              "\n",
              "    .dataframe thead th {\n",
              "        text-align: right;\n",
              "    }\n",
              "</style>\n",
              "<table border=\"1\" class=\"dataframe\">\n",
              "  <thead>\n",
              "    <tr style=\"text-align: right;\">\n",
              "      <th></th>\n",
              "      <th>count</th>\n",
              "    </tr>\n",
              "    <tr>\n",
              "      <th>ICD_PRCDR_CD5</th>\n",
              "      <th></th>\n",
              "    </tr>\n",
              "  </thead>\n",
              "  <tbody>\n",
              "    <tr>\n",
              "      <th>Z1331</th>\n",
              "      <td>16209</td>\n",
              "    </tr>\n",
              "    <tr>\n",
              "      <th>F1990</th>\n",
              "      <td>4218</td>\n",
              "    </tr>\n",
              "    <tr>\n",
              "      <th>Z9981</th>\n",
              "      <td>2197</td>\n",
              "    </tr>\n",
              "    <tr>\n",
              "      <th>F08H5ZZ</th>\n",
              "      <td>2147</td>\n",
              "    </tr>\n",
              "    <tr>\n",
              "      <th>Z139</th>\n",
              "      <td>1644</td>\n",
              "    </tr>\n",
              "    <tr>\n",
              "      <th>F13</th>\n",
              "      <td>1540</td>\n",
              "    </tr>\n",
              "    <tr>\n",
              "      <th>BW03ZZZ</th>\n",
              "      <td>1492</td>\n",
              "    </tr>\n",
              "    <tr>\n",
              "      <th>Z715</th>\n",
              "      <td>960</td>\n",
              "    </tr>\n",
              "    <tr>\n",
              "      <th>F109</th>\n",
              "      <td>838</td>\n",
              "    </tr>\n",
              "    <tr>\n",
              "      <th>Z9181</th>\n",
              "      <td>314</td>\n",
              "    </tr>\n",
              "    <tr>\n",
              "      <th>30273R1</th>\n",
              "      <td>24</td>\n",
              "    </tr>\n",
              "    <tr>\n",
              "      <th>Z8616</th>\n",
              "      <td>14</td>\n",
              "    </tr>\n",
              "    <tr>\n",
              "      <th>07HN33Z</th>\n",
              "      <td>13</td>\n",
              "    </tr>\n",
              "    <tr>\n",
              "      <th>F419</th>\n",
              "      <td>8</td>\n",
              "    </tr>\n",
              "    <tr>\n",
              "      <th>6A550Z2</th>\n",
              "      <td>6</td>\n",
              "    </tr>\n",
              "    <tr>\n",
              "      <th>02RF38H</th>\n",
              "      <td>4</td>\n",
              "    </tr>\n",
              "  </tbody>\n",
              "</table>\n",
              "</div><br><label><b>dtype:</b> int64</label>"
            ]
          },
          "metadata": {},
          "execution_count": 41
        }
      ]
    },
    {
      "cell_type": "code",
      "source": [
        "\n",
        "\n",
        "# Claim Diagnosis E Code Present on Admission (POA) Indicator Code Frequency:\n",
        "\n",
        "df['CLM_E_POA_IND_SW10'].value_counts()"
      ],
      "metadata": {
        "colab": {
          "base_uri": "https://localhost:8080/",
          "height": 147
        },
        "id": "pK5X0lyplFNy",
        "outputId": "adc7c3d5-30ce-4416-dbe2-3dccde4eea85"
      },
      "execution_count": 45,
      "outputs": [
        {
          "output_type": "execute_result",
          "data": {
            "text/plain": [
              "CLM_E_POA_IND_SW10\n",
              "     58066\n",
              "Name: count, dtype: int64"
            ],
            "text/html": [
              "<div>\n",
              "<style scoped>\n",
              "    .dataframe tbody tr th:only-of-type {\n",
              "        vertical-align: middle;\n",
              "    }\n",
              "\n",
              "    .dataframe tbody tr th {\n",
              "        vertical-align: top;\n",
              "    }\n",
              "\n",
              "    .dataframe thead th {\n",
              "        text-align: right;\n",
              "    }\n",
              "</style>\n",
              "<table border=\"1\" class=\"dataframe\">\n",
              "  <thead>\n",
              "    <tr style=\"text-align: right;\">\n",
              "      <th></th>\n",
              "      <th>count</th>\n",
              "    </tr>\n",
              "    <tr>\n",
              "      <th>CLM_E_POA_IND_SW10</th>\n",
              "      <th></th>\n",
              "    </tr>\n",
              "  </thead>\n",
              "  <tbody>\n",
              "    <tr>\n",
              "      <th></th>\n",
              "      <td>58066</td>\n",
              "    </tr>\n",
              "  </tbody>\n",
              "</table>\n",
              "</div><br><label><b>dtype:</b> int64</label>"
            ]
          },
          "metadata": {},
          "execution_count": 45
        }
      ]
    },
    {
      "cell_type": "code",
      "source": [
        "\n",
        "# Claim Principal Diagnosis Code Frequency:\n",
        "\n",
        "df['PRNCPAL_DGNS_CD'].value_counts()"
      ],
      "metadata": {
        "colab": {
          "base_uri": "https://localhost:8080/",
          "height": 490
        },
        "id": "t6bWURPeleJu",
        "outputId": "fbf64e0a-8635-4c07-8432-c459e022ed82"
      },
      "execution_count": 44,
      "outputs": [
        {
          "output_type": "execute_result",
          "data": {
            "text/plain": [
              "PRNCPAL_DGNS_CD\n",
              "Z733      11469\n",
              "Z608       7216\n",
              "T7432X     3314\n",
              "Z604       3227\n",
              "Z7682      3092\n",
              "          ...  \n",
              "I25700        1\n",
              "I200          1\n",
              "E849          1\n",
              "A4152         1\n",
              "O00109        1\n",
              "Name: count, Length: 190, dtype: int64"
            ],
            "text/html": [
              "<div>\n",
              "<style scoped>\n",
              "    .dataframe tbody tr th:only-of-type {\n",
              "        vertical-align: middle;\n",
              "    }\n",
              "\n",
              "    .dataframe tbody tr th {\n",
              "        vertical-align: top;\n",
              "    }\n",
              "\n",
              "    .dataframe thead th {\n",
              "        text-align: right;\n",
              "    }\n",
              "</style>\n",
              "<table border=\"1\" class=\"dataframe\">\n",
              "  <thead>\n",
              "    <tr style=\"text-align: right;\">\n",
              "      <th></th>\n",
              "      <th>count</th>\n",
              "    </tr>\n",
              "    <tr>\n",
              "      <th>PRNCPAL_DGNS_CD</th>\n",
              "      <th></th>\n",
              "    </tr>\n",
              "  </thead>\n",
              "  <tbody>\n",
              "    <tr>\n",
              "      <th>Z733</th>\n",
              "      <td>11469</td>\n",
              "    </tr>\n",
              "    <tr>\n",
              "      <th>Z608</th>\n",
              "      <td>7216</td>\n",
              "    </tr>\n",
              "    <tr>\n",
              "      <th>T7432X</th>\n",
              "      <td>3314</td>\n",
              "    </tr>\n",
              "    <tr>\n",
              "      <th>Z604</th>\n",
              "      <td>3227</td>\n",
              "    </tr>\n",
              "    <tr>\n",
              "      <th>Z7682</th>\n",
              "      <td>3092</td>\n",
              "    </tr>\n",
              "    <tr>\n",
              "      <th>...</th>\n",
              "      <td>...</td>\n",
              "    </tr>\n",
              "    <tr>\n",
              "      <th>I25700</th>\n",
              "      <td>1</td>\n",
              "    </tr>\n",
              "    <tr>\n",
              "      <th>I200</th>\n",
              "      <td>1</td>\n",
              "    </tr>\n",
              "    <tr>\n",
              "      <th>E849</th>\n",
              "      <td>1</td>\n",
              "    </tr>\n",
              "    <tr>\n",
              "      <th>A4152</th>\n",
              "      <td>1</td>\n",
              "    </tr>\n",
              "    <tr>\n",
              "      <th>O00109</th>\n",
              "      <td>1</td>\n",
              "    </tr>\n",
              "  </tbody>\n",
              "</table>\n",
              "<p>190 rows × 1 columns</p>\n",
              "</div><br><label><b>dtype:</b> int64</label>"
            ]
          },
          "metadata": {},
          "execution_count": 44
        }
      ]
    },
    {
      "cell_type": "code",
      "source": [
        "# Claim Admitting Diagnosis Code Frequency:\n",
        "\n",
        "df['ADMTG_DGNS_CD'].value_counts()"
      ],
      "metadata": {
        "colab": {
          "base_uri": "https://localhost:8080/",
          "height": 490
        },
        "id": "4Yo5jXhSnHTM",
        "outputId": "f3b1c92a-9148-49bc-d861-558941a848b1"
      },
      "execution_count": 47,
      "outputs": [
        {
          "output_type": "execute_result",
          "data": {
            "text/plain": [
              "ADMTG_DGNS_CD\n",
              "Z7682      2881\n",
              "T50901A    2541\n",
              "Z951       1694\n",
              "Z95818     1058\n",
              "C3490       940\n",
              "           ... \n",
              "E849          1\n",
              "A4152         1\n",
              "O00109        1\n",
              "I200          1\n",
              "C9200         1\n",
              "Name: count, Length: 65, dtype: int64"
            ],
            "text/html": [
              "<div>\n",
              "<style scoped>\n",
              "    .dataframe tbody tr th:only-of-type {\n",
              "        vertical-align: middle;\n",
              "    }\n",
              "\n",
              "    .dataframe tbody tr th {\n",
              "        vertical-align: top;\n",
              "    }\n",
              "\n",
              "    .dataframe thead th {\n",
              "        text-align: right;\n",
              "    }\n",
              "</style>\n",
              "<table border=\"1\" class=\"dataframe\">\n",
              "  <thead>\n",
              "    <tr style=\"text-align: right;\">\n",
              "      <th></th>\n",
              "      <th>count</th>\n",
              "    </tr>\n",
              "    <tr>\n",
              "      <th>ADMTG_DGNS_CD</th>\n",
              "      <th></th>\n",
              "    </tr>\n",
              "  </thead>\n",
              "  <tbody>\n",
              "    <tr>\n",
              "      <th>Z7682</th>\n",
              "      <td>2881</td>\n",
              "    </tr>\n",
              "    <tr>\n",
              "      <th>T50901A</th>\n",
              "      <td>2541</td>\n",
              "    </tr>\n",
              "    <tr>\n",
              "      <th>Z951</th>\n",
              "      <td>1694</td>\n",
              "    </tr>\n",
              "    <tr>\n",
              "      <th>Z95818</th>\n",
              "      <td>1058</td>\n",
              "    </tr>\n",
              "    <tr>\n",
              "      <th>C3490</th>\n",
              "      <td>940</td>\n",
              "    </tr>\n",
              "    <tr>\n",
              "      <th>...</th>\n",
              "      <td>...</td>\n",
              "    </tr>\n",
              "    <tr>\n",
              "      <th>E849</th>\n",
              "      <td>1</td>\n",
              "    </tr>\n",
              "    <tr>\n",
              "      <th>A4152</th>\n",
              "      <td>1</td>\n",
              "    </tr>\n",
              "    <tr>\n",
              "      <th>O00109</th>\n",
              "      <td>1</td>\n",
              "    </tr>\n",
              "    <tr>\n",
              "      <th>I200</th>\n",
              "      <td>1</td>\n",
              "    </tr>\n",
              "    <tr>\n",
              "      <th>C9200</th>\n",
              "      <td>1</td>\n",
              "    </tr>\n",
              "  </tbody>\n",
              "</table>\n",
              "<p>65 rows × 1 columns</p>\n",
              "</div><br><label><b>dtype:</b> int64</label>"
            ]
          },
          "metadata": {},
          "execution_count": 47
        }
      ]
    },
    {
      "cell_type": "code",
      "source": [
        "\n",
        "# First Claim Diagnosis E Code Frequency\n",
        "\n",
        "df['FST_DGNS_E_CD'].value_counts()"
      ],
      "metadata": {
        "colab": {
          "base_uri": "https://localhost:8080/",
          "height": 490
        },
        "id": "3fRzDG9io_Uq",
        "outputId": "9bdaf7f5-0fcb-4210-c20f-83278f39a22b"
      },
      "execution_count": 52,
      "outputs": [
        {
          "output_type": "execute_result",
          "data": {
            "text/plain": [
              "FST_DGNS_E_CD\n",
              "W86    10445\n",
              "X58     7202\n",
              "W19     4899\n",
              "Y92     3291\n",
              "Y83     2488\n",
              "       ...  \n",
              "V28        1\n",
              "V78        1\n",
              "X93        1\n",
              "X80        1\n",
              "X72        1\n",
              "Name: count, Length: 137, dtype: int64"
            ],
            "text/html": [
              "<div>\n",
              "<style scoped>\n",
              "    .dataframe tbody tr th:only-of-type {\n",
              "        vertical-align: middle;\n",
              "    }\n",
              "\n",
              "    .dataframe tbody tr th {\n",
              "        vertical-align: top;\n",
              "    }\n",
              "\n",
              "    .dataframe thead th {\n",
              "        text-align: right;\n",
              "    }\n",
              "</style>\n",
              "<table border=\"1\" class=\"dataframe\">\n",
              "  <thead>\n",
              "    <tr style=\"text-align: right;\">\n",
              "      <th></th>\n",
              "      <th>count</th>\n",
              "    </tr>\n",
              "    <tr>\n",
              "      <th>FST_DGNS_E_CD</th>\n",
              "      <th></th>\n",
              "    </tr>\n",
              "  </thead>\n",
              "  <tbody>\n",
              "    <tr>\n",
              "      <th>W86</th>\n",
              "      <td>10445</td>\n",
              "    </tr>\n",
              "    <tr>\n",
              "      <th>X58</th>\n",
              "      <td>7202</td>\n",
              "    </tr>\n",
              "    <tr>\n",
              "      <th>W19</th>\n",
              "      <td>4899</td>\n",
              "    </tr>\n",
              "    <tr>\n",
              "      <th>Y92</th>\n",
              "      <td>3291</td>\n",
              "    </tr>\n",
              "    <tr>\n",
              "      <th>Y83</th>\n",
              "      <td>2488</td>\n",
              "    </tr>\n",
              "    <tr>\n",
              "      <th>...</th>\n",
              "      <td>...</td>\n",
              "    </tr>\n",
              "    <tr>\n",
              "      <th>V28</th>\n",
              "      <td>1</td>\n",
              "    </tr>\n",
              "    <tr>\n",
              "      <th>V78</th>\n",
              "      <td>1</td>\n",
              "    </tr>\n",
              "    <tr>\n",
              "      <th>X93</th>\n",
              "      <td>1</td>\n",
              "    </tr>\n",
              "    <tr>\n",
              "      <th>X80</th>\n",
              "      <td>1</td>\n",
              "    </tr>\n",
              "    <tr>\n",
              "      <th>X72</th>\n",
              "      <td>1</td>\n",
              "    </tr>\n",
              "  </tbody>\n",
              "</table>\n",
              "<p>137 rows × 1 columns</p>\n",
              "</div><br><label><b>dtype:</b> int64</label>"
            ]
          },
          "metadata": {},
          "execution_count": 52
        }
      ]
    },
    {
      "cell_type": "code",
      "source": [
        "\n",
        "\n",
        "# 4) Missing data (if any)\n",
        "### Missing data for ICD Codes and how to handle them:\n",
        "\n",
        "missing_icd_codes = df[icd_codes].isnull().sum()\n",
        "print(f\"Missing ICD Codes: {missing_icd_codes}\")"
      ],
      "metadata": {
        "colab": {
          "base_uri": "https://localhost:8080/"
        },
        "id": "eY-owRZJpNX-",
        "outputId": "22318ea0-bd37-41cf-ea6b-194dbe7c2676"
      },
      "execution_count": 73,
      "outputs": [
        {
          "output_type": "stream",
          "name": "stdout",
          "text": [
            "Missing ICD Codes: ICD_DGNS_CD1          0\n",
            "ICD_DGNS_CD2         57\n",
            "ICD_DGNS_CD3        268\n",
            "ICD_DGNS_CD4          0\n",
            "ICD_DGNS_CD5       1099\n",
            "                  ...  \n",
            "ICD_PRCDR_CD21        0\n",
            "ICD_PRCDR_CD22    57819\n",
            "ICD_PRCDR_CD23    57865\n",
            "ICD_PRCDR_CD24    57935\n",
            "ICD_PRCDR_CD25    57984\n",
            "Length: 62, dtype: int64\n"
          ]
        }
      ]
    },
    {
      "cell_type": "code",
      "source": [
        "# Filling with placeholder for the missing ICD_Codes data:\n",
        "\n",
        "df['ICD_PRCDR_CD21'].fillna('Missing', inplace=True)\n",
        "df['ICD_DGNS_CD4'].fillna('Missing', inplace=True)"
      ],
      "metadata": {
        "id": "aMp51mM2sxbz"
      },
      "execution_count": 74,
      "outputs": []
    },
    {
      "cell_type": "code",
      "source": [
        "\n",
        "### Missing data for DRG Codes and how to handle them:\n",
        "\n",
        "missing_drg_codes = df[drg_codes].isnull().sum()\n",
        "print(f\"Missing DRG Codes: {missing_drg_codes}\")\n",
        "\n"
      ],
      "metadata": {
        "colab": {
          "base_uri": "https://localhost:8080/"
        },
        "id": "MVIW5ZF6tSGj",
        "outputId": "a731ea1f-8b4a-4344-dceb-434e0fed7cab"
      },
      "execution_count": 75,
      "outputs": [
        {
          "output_type": "stream",
          "name": "stdout",
          "text": [
            "Missing DRG Codes: CLM_PPS_CPTL_DRG_WT_NUM             0\n",
            "CLM_DRG_CD                       3262\n",
            "CLM_DRG_OUTLIER_STAY_CD             0\n",
            "NCH_DRG_OUTLIER_APRVD_PMT_AMT       0\n",
            "dtype: int64\n"
          ]
        }
      ]
    },
    {
      "cell_type": "code",
      "source": [
        "# Filling with placeholder for the missing DRG codes:\n",
        "\n",
        "df['CLM_DRG_OUTLIER_STAY_CD'].fillna('Missing', inplace=True)\n",
        "df['NCH_DRG_OUTLIER_APRVD_PMT_AMT'].fillna('Missing', inplace=True)"
      ],
      "metadata": {
        "id": "9CrpntFGuNQN"
      },
      "execution_count": 76,
      "outputs": []
    },
    {
      "cell_type": "code",
      "source": [
        "\n",
        "\n",
        "### Missing data for HCPCS Codes and how to handle them:\n",
        "\n",
        "missing_hcpcs_codes = df[hcpcs_codes].isnull().sum()\n",
        "print(f\"Missing HCPCS Codes: {missing_hcpcs_codes}\")"
      ],
      "metadata": {
        "colab": {
          "base_uri": "https://localhost:8080/"
        },
        "id": "8CTVjgF6vbYP",
        "outputId": "2f474dce-bafc-4ce7-8aa6-f5da635c13f3"
      },
      "execution_count": 77,
      "outputs": [
        {
          "output_type": "stream",
          "name": "stdout",
          "text": [
            "Missing HCPCS Codes: HCPCS_CD    0\n",
            "dtype: int64\n"
          ]
        }
      ]
    },
    {
      "cell_type": "code",
      "source": [
        "\n",
        "# Filling with placeholder for the missing HCPCS codes:\n",
        "\n",
        "df['HCPCS_CD'].fillna('Missing', inplace=True)"
      ],
      "metadata": {
        "id": "JOQi0fTyvjXt"
      },
      "execution_count": 78,
      "outputs": []
    },
    {
      "cell_type": "code",
      "source": [
        "\n",
        "# 5) Summary of the Most Common Codes:\n",
        "\n",
        "print(\"Top 5 Most Common ICD Codes:\\n\", icd_frequency.head())\n",
        "print(\"\\nTop 5 Most Common DRG Codes:\\n\", drg_frequency.head())\n",
        "print(\"\\nTop 5 Most Common HCPCS Codes:\\n\", hcpcs_frequency.head())\n",
        "\n"
      ],
      "metadata": {
        "colab": {
          "base_uri": "https://localhost:8080/"
        },
        "id": "sCyNo3iUvyV_",
        "outputId": "53999969-754a-46ea-a36b-d83287a0628f"
      },
      "execution_count": 94,
      "outputs": [
        {
          "output_type": "stream",
          "name": "stdout",
          "text": [
            "Top 5 Most Common ICD Codes:\n",
            " Series([], Name: count, dtype: int64)\n",
            "\n",
            "Top 5 Most Common DRG Codes:\n",
            " CLM_PPS_CPTL_DRG_WT_NUM  CLM_DRG_CD  CLM_DRG_OUTLIER_STAY_CD  NCH_DRG_OUTLIER_APRVD_PMT_AMT\n",
            "0                        951.0       0                        0                                28159\n",
            "                         950.0       0                        0                                 1438\n",
            "                         949.0       0                        0                                 1332\n",
            "                         922.0       0                        0                                 1110\n",
            "                         923.0       0                        0                                 1015\n",
            "Name: count, dtype: int64\n",
            "\n",
            "Top 5 Most Common HCPCS Codes:\n",
            " HCPCS_CD\n",
            "99221       8298\n",
            "G0444       7990\n",
            "96156       5080\n",
            "99408       4196\n",
            "99495       3867\n",
            "Name: count, dtype: int64\n"
          ]
        }
      ]
    },
    {
      "cell_type": "code",
      "source": [
        "\n",
        "### Additional Analysis\n",
        "\n",
        "mentalhealth_screening = df[df['HCPCS_CD'].str.contains('G0444', na=False)]\n",
        "common_hcpcs_for_psych = mentalhealth_screening['HCPCS_CD'].value_counts()\n",
        "print(\"Most Common HCPCS Codes for Patients with HCPCS Code G0444 (Annual Depression):\\n\", common_hcpcs_for_psych)\n"
      ],
      "metadata": {
        "colab": {
          "base_uri": "https://localhost:8080/"
        },
        "id": "X-EEFmgoxnxQ",
        "outputId": "c8b2cab7-8733-4b25-e1fa-7d7492ad11d0"
      },
      "execution_count": 88,
      "outputs": [
        {
          "output_type": "stream",
          "name": "stdout",
          "text": [
            "Most Common HCPCS Codes for Patients with HCPCS Code G0444 (Annual Depression):\n",
            " HCPCS_CD\n",
            "G0444    7990\n",
            "Name: count, dtype: int64\n"
          ]
        }
      ]
    }
  ]
}